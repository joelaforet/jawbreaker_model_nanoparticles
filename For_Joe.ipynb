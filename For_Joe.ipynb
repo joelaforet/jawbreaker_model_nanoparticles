{
 "cells": [
  {
   "cell_type": "code",
   "execution_count": 1,
   "metadata": {},
   "outputs": [],
   "source": [
    "# import library\n",
    "import sklearn\n",
    "from sklearn.metrics import matthews_corrcoef as mcc\n",
    "from sklearn.metrics import balanced_accuracy_score\n",
    "from sklearn.metrics import f1_score\n",
    "import matplotlib.pyplot as plt"
   ]
  },
  {
   "cell_type": "code",
   "execution_count": 10,
   "metadata": {},
   "outputs": [],
   "source": [
    "# This is the example array that I used:\n",
    "y_true = [1,1,1,1,0,1,0,1,1,0]\n",
    "y_pred = [1,1,1,1,1,1,0,1,1,1]"
   ]
  },
  {
   "cell_type": "code",
   "execution_count": 11,
   "metadata": {},
   "outputs": [],
   "source": [
    "# For example: if you have y_true is [1,1,1,1,0,0,0,0,1,0] and y_pred is \n",
    "# [1,1,1,1,1,1,1,1,1,1], and if you want to get an overal results:\n",
    "# ! You have to make sure that the first parameter is y_true (real value) and the second parameter is y_pred(predicted value)\n",
    "\n",
    "# e.g. balanced accuracy \n",
    "balanced_accuracy_results = balanced_accuracy_score(y_true, y_pred)\n",
    "\n",
    "# e.g. mcc\n",
    "mcc_results = mcc(y_true, y_pred)\n",
    "\n",
    "# e.g. f1 score, you can check this website when determine if you need average: https://scikit-learn.org/stable/modules/generated/sklearn.metrics.f1_score.html\n",
    "f1_results = f1_score(y_true, y_pred, average='micro')"
   ]
  },
  {
   "cell_type": "code",
   "execution_count": 12,
   "metadata": {},
   "outputs": [
    {
     "name": "stdout",
     "output_type": "stream",
     "text": [
      "balanced_accuracy_result is: 0.6666666666666666\n",
      "mcc result is: 0.5091750772173156\n",
      "f1 score is: 0.8000000000000002\n"
     ]
    }
   ],
   "source": [
    "print('balanced_accuracy_result is: ' + str(balanced_accuracy_results))\n",
    "print('mcc result is: ' + str(mcc_results))\n",
    "print('f1 score is: ' + str(f1_results))"
   ]
  },
  {
   "cell_type": "code",
   "execution_count": 13,
   "metadata": {},
   "outputs": [
    {
     "data": {
      "text/plain": [
       "Text(0,0.5,'balanced accuracy score')"
      ]
     },
     "execution_count": 13,
     "metadata": {},
     "output_type": "execute_result"
    },
    {
     "data": {
      "image/png": "[encoded data removed]",
      "text/plain": [
       "<Figure size 432x288 with 1 Axes>"
      ]
     },
     "metadata": {
      "needs_background": "light"
     },
     "output_type": "display_data"
    }
   ],
   "source": [
    "# If you want to plot a graph to see how the metric goes when you increase the datapoints:\n",
    "\n",
    "# I will just use the balanced accuracy as the example, and you can replace the metric for the rest\n",
    "b_acc_array = []\n",
    "for i in range(len(y_true)):\n",
    "    b_acc_array.append(balanced_accuracy_score(y_true[0:i+1], y_pred[0:i+1]))\n",
    "plt.plot(b_acc_array)\n",
    "plt.title('Balanced accuracy score graph')\n",
    "plt.xlabel('# of dataponts')\n",
    "plt.ylabel('balanced accuracy score')"
   ]
  },
  {
   "cell_type": "markdown",
   "metadata": {},
   "source": [
    "# Tests with using the Morgan Fingerprint as input feature"
   ]
  },
  {
   "cell_type": "code",
   "execution_count": 2,
   "metadata": {},
   "outputs": [],
   "source": [
    "from rdkit import Chem, DataStructs\n",
    "from rdkit.Chem import AllChem, Descriptors"
   ]
  },
  {
   "cell_type": "code",
   "execution_count": 3,
   "metadata": {},
   "outputs": [],
   "source": [
    "descr = Descriptors._descList\n",
    "calc = [x[1] for x in descr]\n",
    "\n",
    "def describe_mol(mol):\n",
    "\tfp = AllChem.GetMorganFingerprintAsBitVect(mol,4,nBits=2048)\n",
    "\tfp_list = []\n",
    "\tfp_list.extend(fp.ToBitString())\n",
    "\tfp_expl = []\n",
    "\tfp_expl = [float(x) for x in fp_list]\n",
    "\tds_n = []\n",
    "\tfor d in calc:\n",
    "\t\tv = d(mol)\n",
    "\t\tif v > np.finfo(np.float32).max: \t# postprocess descriptors for freak large values\n",
    "\t\t\tds_n.append(np.finfo(np.float32).max)\n",
    "\t\telif math.isnan(v):\n",
    "\t\t\tds_n.append(np.float32(0.0))\n",
    "\t\telse:\n",
    "\t\t\tds_n.append(np.float32(v))\n",
    "    \n",
    "\treturn fp_expl + list(ds_n)\n"
   ]
  },
  {
   "cell_type": "code",
   "execution_count": null,
   "metadata": {},
   "outputs": [],
   "source": []
  },
  {
   "cell_type": "code",
   "execution_count": null,
   "metadata": {},
   "outputs": [],
   "source": [
    "e_x = [describe_mol(Chem.MolFromSmiles(e)) for e in e_smiles]\n",
    "d_x = [describe_mol(Chem.MolFromSmiles(d)) for d in d_smiles]"
   ]
  },
  {
   "cell_type": "code",
   "execution_count": null,
   "metadata": {},
   "outputs": [],
   "source": []
  },
  {
   "cell_type": "code",
   "execution_count": null,
   "metadata": {},
   "outputs": [],
   "source": []
  },
  {
   "cell_type": "code",
   "execution_count": null,
   "metadata": {},
   "outputs": [],
   "source": []
  }
 ],
 "metadata": {
  "kernelspec": {
   "display_name": "Python 3",
   "language": "python",
   "name": "python3"
  },
  "language_info": {
   "codemirror_mode": {
    "name": "ipython",
    "version": 3
   },
   "file_extension": ".py",
   "mimetype": "text/x-python",
   "name": "python",
   "nbconvert_exporter": "python",
   "pygments_lexer": "ipython3",
   "version": "3.7.10"
  }
 },
 "nbformat": 4,
 "nbformat_minor": 2
}
