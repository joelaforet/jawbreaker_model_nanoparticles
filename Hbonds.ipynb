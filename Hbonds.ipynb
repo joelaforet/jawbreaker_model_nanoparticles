{
 "cells": [
  {
   "cell_type": "code",
   "execution_count": 1,
   "id": "lovely-nepal",
   "metadata": {},
   "outputs": [],
   "source": [
    "import mdtraj as md"
   ]
  },
  {
   "cell_type": "code",
   "execution_count": 2,
   "id": "specific-median",
   "metadata": {},
   "outputs": [],
   "source": [
    "traj = md.load_frame('openmm_Sorafenib_CholicAcid1.pdb', 10)"
   ]
  },
  {
   "cell_type": "code",
   "execution_count": 4,
   "id": "patient-reconstruction",
   "metadata": {},
   "outputs": [
    {
     "name": "stdout",
     "output_type": "stream",
     "text": [
      "[[ 17  41 112]\n",
      " [113 137   3]]\n",
      "{}\n",
      "{}\n"
     ]
    }
   ],
   "source": [
    "Hdonors = {}\n",
    "Hacceptors = {}\n",
    "hbonds = md.baker_hubbard(traj)\n",
    "print(hbonds)\n",
    "for hbond in hbonds:\n",
    "    r1 = str(traj.topology.atom(hbond[0]))\n",
    "    r1 = r1[0:3] + '-' + (r1[-1] if r1[-1].isnumeric() is False else r1[-2:]) \n",
    "    r2 = str(traj.topology.atom(hbond[2]))\n",
    "    r2 = r2[0:3] + '-' + (r2[-1] if r2[-1].isnumeric() is False else r2[-2:])\n",
    "    if ('ZPE' in r1) is not ('ZPE' in r2):\n",
    "        \n",
    "        Hdonors[r1] = 1 if r1 not in Hdonors else Hdonors[r1] + 1\n",
    "        Hacceptors[r2] = 1 if r2 not in Hacceptors else Hacceptors[r2] + 1\n",
    "\n",
    "print(Hdonors)\n",
    "print(Hacceptors)\n"
   ]
  },
  {
   "cell_type": "code",
   "execution_count": 58,
   "id": "pointed-animation",
   "metadata": {},
   "outputs": [
    {
     "ename": "KeyError",
     "evalue": "'ZPE-N'",
     "output_type": "error",
     "traceback": [
      "\u001b[0;31m---------------------------------------------------------------------------\u001b[0m",
      "\u001b[0;31mKeyError\u001b[0m                                  Traceback (most recent call last)",
      "\u001b[0;32m<ipython-input-58-ce8c1b807702>\u001b[0m in \u001b[0;36m<module>\u001b[0;34m\u001b[0m\n\u001b[1;32m      5\u001b[0m     \u001b[0mr2\u001b[0m \u001b[0;34m=\u001b[0m \u001b[0mr2\u001b[0m\u001b[0;34m[\u001b[0m\u001b[0;36m0\u001b[0m\u001b[0;34m:\u001b[0m\u001b[0;36m3\u001b[0m\u001b[0;34m]\u001b[0m \u001b[0;34m+\u001b[0m \u001b[0;34m'-'\u001b[0m \u001b[0;34m+\u001b[0m \u001b[0;34m(\u001b[0m\u001b[0mr2\u001b[0m\u001b[0;34m[\u001b[0m\u001b[0;34m-\u001b[0m\u001b[0;36m1\u001b[0m\u001b[0;34m]\u001b[0m \u001b[0;32mif\u001b[0m \u001b[0mr2\u001b[0m\u001b[0;34m[\u001b[0m\u001b[0;34m-\u001b[0m\u001b[0;36m1\u001b[0m\u001b[0;34m]\u001b[0m\u001b[0;34m.\u001b[0m\u001b[0misnumeric\u001b[0m\u001b[0;34m(\u001b[0m\u001b[0;34m)\u001b[0m \u001b[0;32mis\u001b[0m \u001b[0;32mFalse\u001b[0m \u001b[0;32melse\u001b[0m \u001b[0mr2\u001b[0m\u001b[0;34m[\u001b[0m\u001b[0;34m-\u001b[0m\u001b[0;36m2\u001b[0m\u001b[0;34m:\u001b[0m\u001b[0;34m]\u001b[0m\u001b[0;34m)\u001b[0m\u001b[0;34m\u001b[0m\u001b[0;34m\u001b[0m\u001b[0m\n\u001b[1;32m      6\u001b[0m     \u001b[0;32mif\u001b[0m \u001b[0;34m(\u001b[0m\u001b[0;34m'ZPE'\u001b[0m \u001b[0;32min\u001b[0m \u001b[0mr1\u001b[0m\u001b[0;34m)\u001b[0m \u001b[0;32mis\u001b[0m \u001b[0;32mnot\u001b[0m \u001b[0;34m(\u001b[0m\u001b[0;34m'ZPE'\u001b[0m \u001b[0;32min\u001b[0m \u001b[0mr2\u001b[0m\u001b[0;34m)\u001b[0m\u001b[0;34m:\u001b[0m\u001b[0;34m\u001b[0m\u001b[0;34m\u001b[0m\u001b[0m\n\u001b[0;32m----> 7\u001b[0;31m         \u001b[0mHdonors\u001b[0m\u001b[0;34m[\u001b[0m\u001b[0mr1\u001b[0m\u001b[0;34m]\u001b[0m \u001b[0;34m+=\u001b[0m \u001b[0;36m1\u001b[0m \u001b[0;32mif\u001b[0m \u001b[0mr1\u001b[0m \u001b[0;32min\u001b[0m \u001b[0mHdonors\u001b[0m \u001b[0;32melse\u001b[0m \u001b[0mHdonors\u001b[0m\u001b[0;34m.\u001b[0m\u001b[0mupdate\u001b[0m\u001b[0;34m(\u001b[0m\u001b[0mr1\u001b[0m \u001b[0;34m=\u001b[0m \u001b[0;36m1\u001b[0m\u001b[0;34m)\u001b[0m\u001b[0;34m\u001b[0m\u001b[0;34m\u001b[0m\u001b[0m\n\u001b[0m\u001b[1;32m      8\u001b[0m         \u001b[0mHacceptors\u001b[0m\u001b[0;34m[\u001b[0m\u001b[0mr2\u001b[0m\u001b[0;34m]\u001b[0m \u001b[0;34m+=\u001b[0m \u001b[0;36m1\u001b[0m \u001b[0;32mif\u001b[0m \u001b[0mr2\u001b[0m \u001b[0;32min\u001b[0m \u001b[0mHacceptors\u001b[0m \u001b[0;32melse\u001b[0m \u001b[0mHacceptors\u001b[0m\u001b[0;34m.\u001b[0m\u001b[0mupdate\u001b[0m\u001b[0;34m(\u001b[0m\u001b[0mr2\u001b[0m \u001b[0;34m=\u001b[0m \u001b[0;36m1\u001b[0m\u001b[0;34m)\u001b[0m\u001b[0;34m\u001b[0m\u001b[0;34m\u001b[0m\u001b[0m\n",
      "\u001b[0;31mKeyError\u001b[0m: 'ZPE-N'"
     ]
    }
   ],
   "source": [
    "r1 = 'happy'\n",
    "Hdonors[r1] = 1\n",
    "Hdonors[r1] += 1\n",
    "Hdonors\n",
    "Hdonors[r1] += 1 if r1 in Hdonors else Hdonors[r1] = 1\n",
    "        Hacceptors[r2] += 1 if r2 in Hacceptors else Hacceptors[r2] = 1"
   ]
  },
  {
   "cell_type": "code",
   "execution_count": null,
   "id": "nervous-cosmetic",
   "metadata": {},
   "outputs": [],
   "source": []
  }
 ],
 "metadata": {
  "kernelspec": {
   "display_name": "Python 3",
   "language": "python",
   "name": "python3"
  },
  "language_info": {
   "codemirror_mode": {
    "name": "ipython",
    "version": 3
   },
   "file_extension": ".py",
   "mimetype": "text/x-python",
   "name": "python",
   "nbconvert_exporter": "python",
   "pygments_lexer": "ipython3",
   "version": "3.7.10"
  }
 },
 "nbformat": 4,
 "nbformat_minor": 5
}
