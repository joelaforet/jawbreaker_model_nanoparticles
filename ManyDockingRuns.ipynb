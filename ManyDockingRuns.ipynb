{
 "cells": [
  {
   "cell_type": "markdown",
   "id": "76599389",
   "metadata": {},
   "source": [
    "# Many Docking Jobs\n",
    "## By Joe Laforet"
   ]
  },
  {
   "cell_type": "markdown",
   "id": "6a7eb7be",
   "metadata": {},
   "source": [
    "# Import Statements"
   ]
  },
  {
   "cell_type": "code",
   "execution_count": 1,
   "id": "2a73c2bc",
   "metadata": {},
   "outputs": [],
   "source": [
    "import pandas as pd\n",
    "import numpy as np\n",
    "import os\n",
    "import glob\n",
    "import argparse"
   ]
  },
  {
   "cell_type": "markdown",
   "id": "53d1bcaf",
   "metadata": {},
   "source": [
    "### Define Ligand FileName: hBACE1_0000.smi.sdf\n",
    " The 0000 changes up to 7231"
   ]
  },
  {
   "cell_type": "code",
   "execution_count": 9,
   "id": "6d8f8c34",
   "metadata": {},
   "outputs": [
    {
     "data": {
      "text/plain": [
       "['hBACE1_0000.smi.sdf']"
      ]
     },
     "execution_count": 9,
     "metadata": {},
     "output_type": "execute_result"
    }
   ],
   "source": [
    "\n",
    "ligs = [\"hBACE1_0000.smi.sdf\"]\n",
    "ligs"
   ]
  },
  {
   "cell_type": "code",
   "execution_count": 14,
   "id": "0a4072bb",
   "metadata": {},
   "outputs": [
    {
     "data": {
      "text/plain": [
       "'hBACE1_0000'"
      ]
     },
     "execution_count": 14,
     "metadata": {},
     "output_type": "execute_result"
    }
   ],
   "source": [
    "outName = ligs[0].split(\".\")[0]\n",
    "outName"
   ]
  },
  {
   "cell_type": "code",
   "execution_count": 11,
   "id": "eca75f48",
   "metadata": {},
   "outputs": [
    {
     "data": {
      "text/plain": [
       "'0000'"
      ]
     },
     "execution_count": 11,
     "metadata": {},
     "output_type": "execute_result"
    }
   ],
   "source": [
    "ligNum = ligs[0].split(\"_\")[1].split(\".\")[0]\n",
    "ligNum"
   ]
  },
  {
   "cell_type": "markdown",
   "id": "ab86daa2",
   "metadata": {},
   "source": [
    "# Below is the big cell to paste into a Python Script"
   ]
  },
  {
   "cell_type": "code",
   "execution_count": null,
   "id": "cbc31359",
   "metadata": {},
   "outputs": [],
   "source": [
    "###################################\n",
    "\"\"\"\n",
    "ManyDock.py\n",
    "By Joe Laforet Jr.\n",
    "\n",
    "Drop this script into a folder containing:\n",
    "    1. Reference Protein .pdb\n",
    "    2. Binding Pocket .sdf\n",
    "    3. Lots of ligand .smi.sdf files\n",
    "\n",
    "Usage: python ManyDock.py --submit True --scoring \"vinardo\" --reference 6E3Z_rtd.pdb --pocket 6E3Z_pocket.sdf\n",
    "\n",
    "\n",
    "\"\"\"\"\n",
    "###############################################################################################################\n",
    "import os\n",
    "import argparse\n",
    "\n",
    "#%% Initialize Argument Parser\n",
    "parser = argparse.ArgumentParser(add_help = True)\n",
    "parser.add_argument(\"--submit\", type=bool, action=\"store_true\", help=\"Set True if you want to send jobs to Cluster.\",default = False, required=True)\n",
    "parser.add_argument(\"--scoring\", type=str, help = \"Scoring method for GNINA.\",default = 'vinardo', required = True)\n",
    "parser.add_argument(\"--reference\", type=str, help=\"Reference .pdb to dock ligands to.\", required = True)\n",
    "parser.add_argument('--pocket', type=str, help='.sdf of pocket to dock molecules to.', required = True)\n",
    "args = parser.parse_args()\n",
    "\n",
    "#########################################################################################################\n",
    "score_method = args.scoring\n",
    "ref_protein = args.reference\n",
    "docking_pocket = args.pocket\n",
    "send_Job = args.submit\n",
    "#########################################################################################################\n",
    "score_method = \"vinardo\"\n",
    "ref_protein = \"6E3Z_rtd.pdb\"\n",
    "docking_pocket = \"6E3Z_pocket.sdf\"\n",
    "send_Job = True\n",
    "#########################################################################################################\n",
    "\n",
    "def writeDockJob(ligFile, scoring, refProt, pocket, submit):\n",
    "    \n",
    "    ligNum = ligFile.split(\"_\")[1].split(\".\")[0]\n",
    "    outName = ligFile.split(\".\")[0]\n",
    "    jobName = \"RunDock_\"+ ligNum\n",
    "    job_file = os.path.join(os.getcwd(), 'DockJob%s.sh' % str(ligNum))\n",
    "    \n",
    "    with open(job_file, 'w', newline = '\\n') as fh:\n",
    "        fh.write(\"#!/bin/bash\\n\")\n",
    "        fh.write('#SBATCH --mail-type=begin\\n')\n",
    "        fh.write('#SBATCH --mail-type=end\\n')\n",
    "        fh.write('#SBATCH --mail-user=jrl78@duke.edu\\n')\n",
    "        fh.write('#SBATCH -e slurm.err\\n')\n",
    "        fh.write(\"#SBATCH --job-name=%s.job\\n\" % jobName)\n",
    "        fh.write(\"#SBATCH --mem=20G\\n\")\n",
    "        fh.write(\"#SBATCH -p scavenger-gpu --gres=gpu:1\\n\")\n",
    "        fh.write(\"#SBATCH --exclusive\\n\")\n",
    "        fh.write(\"#SBATCH --exclude=dcc-gehmlab-gpu-60,dcc-mastatlab-gpu-01,dcc-lefkowitz-gpu-01,dcc-tdunn-gpu-01,dcc-tdunn-gpu-02,dcc-viplab-gpu-01,dcc-collinslab-gpu-04\\n\")\n",
    "        fh.write('./gnina -r {} -l {} --autobox_ligand 6E3Z_pocket.sdf --exhaustiveness 10 --num_modes 1 --scoring {} --cnn_scoring none -o GNINA_{}_{}.sdf\\n'.format(ref_protein,ligFile,scoring,scoring, outName))\n",
    "    \n",
    "    if(submit):\n",
    "        os.system(\"chmod +x {}\".format(job_file))\n",
    "        os.system(\"sbatch {}\".format(job_file))\n",
    "    \n",
    "    \n",
    "ligs = glob.glob(\"*.smi.sdf\")\n",
    "\n",
    "for x in ligs:\n",
    "    writeDockJob(x, score_method, ref_protein, docking_pocket, send_Job)\n",
    "\n",
    "print(\"Job's Done!\")\n",
    "    \n",
    "    "
   ]
  },
  {
   "cell_type": "code",
   "execution_count": 37,
   "id": "9580b505",
   "metadata": {},
   "outputs": [
    {
     "name": "stdout",
     "output_type": "stream",
     "text": [
      "Job's Done!\n"
     ]
    }
   ],
   "source": [
    "score_method = \"vinardo\"\n",
    "ref_protein = \"6E3Z_rtd.pdb\"\n",
    "docking_pocket = \"6E3Z_pocket.sdf\"\n",
    "send_Job = True\n",
    "\n",
    "def writeDockJob(ligFile, scoring, refProt, pocket, submit):\n",
    "    \n",
    "    ligNum = ligFile.split(\"_\")[1].split(\".\")[0]\n",
    "    outName = ligFile.split(\".\")[0]\n",
    "    jobName = \"RunDock_\"+ ligNum\n",
    "    job_file = os.path.join(os.getcwd(), 'DockJob%s.sh' % str(ligNum))\n",
    "    \n",
    "    with open(job_file, 'w', newline = '\\n') as fh:\n",
    "        fh.write(\"#!/bin/bash\\n\")\n",
    "        fh.write('#SBATCH --mail-type=begin\\n')\n",
    "        fh.write('#SBATCH --mail-type=end\\n')\n",
    "        fh.write('#SBATCH --mail-user=jrl78@duke.edu\\n')\n",
    "        fh.write('#SBATCH -e slurm.err\\n')\n",
    "        fh.write(\"#SBATCH --job-name=%s.job\\n\" % jobName)\n",
    "        fh.write(\"#SBATCH --mem=20G\\n\")\n",
    "        fh.write(\"#SBATCH -p scavenger-gpu --gres=gpu:1\\n\")\n",
    "        fh.write(\"#SBATCH --exclusive\\n\")\n",
    "        fh.write(\"#SBATCH --exclude=dcc-gehmlab-gpu-60,dcc-mastatlab-gpu-01,dcc-lefkowitz-gpu-01,dcc-tdunn-gpu-01,dcc-tdunn-gpu-02,dcc-viplab-gpu-01,dcc-collinslab-gpu-04\\n\")\n",
    "        fh.write('./gnina -r {} -l {} --autobox_ligand 6E3Z_pocket.sdf --exhaustiveness 10 --num_modes 1 --scoring {} --cnn_scoring none -o GNINA_{}_{}.sdf\\n'.format(ref_protein,ligFile,scoring,scoring, outName))\n",
    "    \n",
    "    if(submit):\n",
    "        os.system(\"chmod +x {}\".format(job_file))\n",
    "        os.system(\"sbatch {}\".format(job_file))\n",
    "    \n",
    "    \n",
    "ligs = glob.glob(\"*.smi.sdf\")\n",
    "\n",
    "for x in ligs:\n",
    "    writeDockJob(x, score_method, ref_protein, docking_pocket, send_Job)\n",
    "\n",
    "print(\"Job's Done!\")"
   ]
  },
  {
   "cell_type": "code",
   "execution_count": 36,
   "id": "7c29ae83",
   "metadata": {},
   "outputs": [
    {
     "data": {
      "text/plain": [
       "'C:\\\\Users\\\\joela\\\\OneDrive - Duke University\\\\Reker Lab\\\\simulations'"
      ]
     },
     "execution_count": 36,
     "metadata": {},
     "output_type": "execute_result"
    }
   ],
   "source": [
    "os.getcwd()"
   ]
  },
  {
   "cell_type": "code",
   "execution_count": 20,
   "id": "5c53c2ea",
   "metadata": {},
   "outputs": [
    {
     "data": {
      "text/plain": [
       "['6E3Z_pocket.sdf', 'hBACE1_0000.smi.sdf']"
      ]
     },
     "execution_count": 20,
     "metadata": {},
     "output_type": "execute_result"
    }
   ],
   "source": [
    "glob.glob(\"*sdf\")"
   ]
  },
  {
   "cell_type": "code",
   "execution_count": 30,
   "id": "dae7aaab",
   "metadata": {},
   "outputs": [
    {
     "name": "stdout",
     "output_type": "stream",
     "text": [
      "Job's Done!\n"
     ]
    }
   ],
   "source": [
    "writeDockJob(\"hBACE1_0000.smi.sdf\", \"vinardo\")"
   ]
  },
  {
   "cell_type": "code",
   "execution_count": null,
   "id": "d5848dba",
   "metadata": {},
   "outputs": [],
   "source": []
  }
 ],
 "metadata": {
  "kernelspec": {
   "display_name": "Python 3 (ipykernel)",
   "language": "python",
   "name": "python3"
  },
  "language_info": {
   "codemirror_mode": {
    "name": "ipython",
    "version": 3
   },
   "file_extension": ".py",
   "mimetype": "text/x-python",
   "name": "python",
   "nbconvert_exporter": "python",
   "pygments_lexer": "ipython3",
   "version": "3.9.12"
  }
 },
 "nbformat": 4,
 "nbformat_minor": 5
}
