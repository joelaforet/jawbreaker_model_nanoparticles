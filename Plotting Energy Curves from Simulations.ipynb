{
 "cells": [
  {
   "cell_type": "markdown",
   "id": "b6921f45",
   "metadata": {},
   "source": [
    "# This notebook is to be placed in the directory containing the pdb.log files of simulations to extract and graph energy information\n",
    "\n",
    "###                                       By Joe Laforet Jr."
   ]
  },
  {
   "cell_type": "markdown",
   "id": "d6471d66",
   "metadata": {},
   "source": [
    "## Import Statements"
   ]
  },
  {
   "cell_type": "code",
   "execution_count": 1,
   "id": "88a7e216",
   "metadata": {},
   "outputs": [],
   "source": [
    "import pandas as pd\n",
    "import numpy as np\n",
    "import matplotlib.pyplot as plt"
   ]
  },
  {
   "cell_type": "markdown",
   "id": "3de32b4d",
   "metadata": {},
   "source": [
    "## Functions used in notebook:"
   ]
  },
  {
   "cell_type": "markdown",
   "id": "985f003a",
   "metadata": {},
   "source": [
    "### For a single pdb.log file"
   ]
  },
  {
   "cell_type": "code",
   "execution_count": 2,
   "id": "e6e29e2f",
   "metadata": {},
   "outputs": [],
   "source": [
    "def make_plots(df, name):\n",
    "    \n",
    "    \"\"\"\n",
    "    Parameters\n",
    "    ----------\n",
    "    df : dataframe\n",
    "        Pandas Dataframe containing values from pdb.log file.\n",
    "    name: string\n",
    "        Nametag for generated plots.\n",
    "    \n",
    "    Returns\n",
    "    -------\n",
    "    None:\n",
    "    \n",
    "    Saves figures to working directory as .png's.\n",
    "    \n",
    "    Notes\n",
    "    -----\n",
    "    Function makes plots for Total Energy (kJ/mole), Kinetic Energy (kJ/mole), and Potential Energy (kJ/mole).\n",
    "    \"\"\"\n",
    "    \n",
    "    plt.plot(df['Time (ps)'],df['Total Energy (kJ/mole)'])\n",
    "    plt.xlabel('Time (ps)')\n",
    "    plt.ylabel('Total Energy (kJ/mole)')\n",
    "    plt.title('Total Energy for {}'.format(name))\n",
    "    plt.savefig('{}_TE.png'.format(name), dpi = 300, bbox_inches = 'tight')\n",
    "    plt.clf()\n",
    "    \n",
    "    plt.plot(df['Time (ps)'],df['Kinetic Energy (kJ/mole)'])\n",
    "    plt.xlabel('Time (ps)')\n",
    "    plt.ylabel('Kinetic Energy (kJ/mole)')\n",
    "    plt.title('Kinetic Energy for {}'.format(name))\n",
    "    plt.savefig('{}_KE.png'.format(name), dpi = 300, bbox_inches = 'tight')\n",
    "    plt.clf()\n",
    "    \n",
    "    plt.plot(df['Time (ps)'],df['Potential Energy (kJ/mole)'])\n",
    "    plt.xlabel('Time (ps)')\n",
    "    plt.ylabel('Potential Energy (kJ/mole)')\n",
    "    plt.title('Potential Energy for {}'.format(name))\n",
    "    plt.savefig('{}_PE.png'.format(name), dpi = 300, bbox_inches = 'tight')\n",
    "    plt.clf()\n",
    "    \n",
    "    print('Plots Done!')"
   ]
  },
  {
   "cell_type": "markdown",
   "id": "65f4b8a4",
   "metadata": {},
   "source": [
    "### For multiple pdb.log files of the same system."
   ]
  },
  {
   "cell_type": "code",
   "execution_count": 3,
   "id": "02e83975",
   "metadata": {},
   "outputs": [],
   "source": [
    "def make_comparison_plots_sameExcip(dfs, name):\n",
    "    \n",
    "    \"\"\"\n",
    "    Parameters\n",
    "    ----------\n",
    "    dfs : list(dataframe)\n",
    "        List of Pandas Dataframes containing values from each pdb.log file.\n",
    "    name: string\n",
    "        Nametag for generated plots.\n",
    "    \n",
    "    Returns\n",
    "    -------\n",
    "    None:\n",
    "    \n",
    "    Saves figures to working directory as .png's.\n",
    "    \n",
    "    Notes\n",
    "    -----\n",
    "    Function makes plots for Total Energy (kJ/mole), Kinetic Energy (kJ/mole),\n",
    "    and Potential Energy (kJ/mole) for each dataframe inside of dfs.\n",
    "    \"\"\"\n",
    "    \n",
    "    plt.xlabel('Time (ps)')\n",
    "    plt.ylabel('Total Energy (kJ/mole)')\n",
    "    plt.title('Total Energy for {}'.format(name))\n",
    "    count = 1\n",
    "    for df in dfs:\n",
    "        plt.plot(df['Time (ps)'],df['Total Energy (kJ/mole)'], label = 'Trial {}'.format(count))\n",
    "        count += 1\n",
    "    plt.legend()\n",
    "    plt.savefig('{}_TE.png'.format(name), dpi = 300, bbox_inches = 'tight')\n",
    "    plt.clf()\n",
    "    \n",
    "    plt.xlabel('Time (ps)')\n",
    "    plt.ylabel('Kinetic Energy (kJ/mole)')\n",
    "    plt.title('Kinetic Energy for {}'.format(name))\n",
    "    count = 1\n",
    "    for df in dfs:\n",
    "        plt.plot(df['Time (ps)'],df['Kinetic Energy (kJ/mole)'], label = 'Trial {}'.format(count))\n",
    "        count += 1\n",
    "    plt.legend()\n",
    "    plt.savefig('{}_KE.png'.format(name), dpi = 300, bbox_inches = 'tight')\n",
    "    plt.clf()\n",
    "    \n",
    "    plt.xlabel('Time (ps)')\n",
    "    plt.ylabel('Potential Energy (kJ/mole)')\n",
    "    plt.title('Potential Energy for {}'.format(name))\n",
    "    count = 1\n",
    "    for df in dfs:\n",
    "        plt.plot(df['Time (ps)'],df['Potential Energy (kJ/mole)'], label = 'Trial {}'.format(count))\n",
    "        count += 1\n",
    "    plt.legend()\n",
    "    plt.savefig('{}_PE.png'.format(name), dpi = 300, bbox_inches = 'tight')\n",
    "    plt.clf()\n",
    "    \n",
    "    \n",
    "    print('Plots Done!')"
   ]
  },
  {
   "cell_type": "markdown",
   "id": "de3fc80b",
   "metadata": {},
   "source": [
    "### For multiple pdb.log files of different systems."
   ]
  },
  {
   "cell_type": "code",
   "execution_count": 4,
   "id": "179c5306",
   "metadata": {},
   "outputs": [],
   "source": [
    "def make_comparison_plots(dfs, names, name):\n",
    "    \n",
    "    \"\"\"\n",
    "    Parameters\n",
    "    ----------\n",
    "    dfs : list(dataframe)\n",
    "        List of Pandas Dataframes containing values from each pdb.log file.\n",
    "    names : list(str)\n",
    "        List of names of unique samples you are plotting.\n",
    "    name: string\n",
    "        Nametag for generated plots.\n",
    "    \n",
    "    Returns\n",
    "    -------\n",
    "    None:\n",
    "    \n",
    "    Saves figures to working directory as .png's.\n",
    "    \n",
    "    Notes\n",
    "    -----\n",
    "    Function makes plots for Total Energy (kJ/mole), Kinetic Energy (kJ/mole),\n",
    "    and Potential Energy (kJ/mole) for each dataframe inside of dfs.\n",
    "    \"\"\"\n",
    "    \n",
    "    plt.xlabel('Time (ps)')\n",
    "    plt.ylabel('Total Energy (kJ/mole)')\n",
    "    plt.title('Total Energy for {}'.format(name))\n",
    "    count = 0\n",
    "    for df in dfs:\n",
    "        plt.plot(df['Time (ps)'],df['Total Energy (kJ/mole)'], label = '{}'.format(names[count]))\n",
    "        count += 1\n",
    "    plt.legend()\n",
    "    plt.savefig('{}_TE.png'.format(name), dpi = 300, bbox_inches = 'tight')\n",
    "    plt.clf()\n",
    "    \n",
    "    plt.xlabel('Time (ps)')\n",
    "    plt.ylabel('Kinetic Energy (kJ/mole)')\n",
    "    plt.title('Kinetic Energy for {}'.format(name))\n",
    "    count = 0\n",
    "    for df in dfs:\n",
    "        plt.plot(df['Time (ps)'],df['Kinetic Energy (kJ/mole)'], label = '{}'.format(names[count]))\n",
    "        count += 1\n",
    "    plt.legend()\n",
    "    plt.savefig('{}_KE.png'.format(name), dpi = 300, bbox_inches = 'tight')\n",
    "    plt.clf()\n",
    "    \n",
    "    plt.xlabel('Time (ps)')\n",
    "    plt.ylabel('Potential Energy (kJ/mole)')\n",
    "    plt.title('Potential Energy for {}'.format(name))\n",
    "    count = 0\n",
    "    for df in dfs:\n",
    "        plt.plot(df['Time (ps)'],df['Potential Energy (kJ/mole)'], label = '{}'.format(names[count]))\n",
    "        count += 1\n",
    "    plt.legend()\n",
    "    plt.savefig('{}_PE.png'.format(name), dpi = 300, bbox_inches = 'tight')\n",
    "    plt.clf()\n",
    "    \n",
    "    \n",
    "    print('Plots Done!')"
   ]
  },
  {
   "cell_type": "markdown",
   "id": "f64a92a6",
   "metadata": {},
   "source": [
    "# Your code here:"
   ]
  },
  {
   "cell_type": "code",
   "execution_count": 6,
   "id": "4e7eb70c",
   "metadata": {},
   "outputs": [],
   "source": [
    "# SampleDF = pd.read_csv('filepath/sample.pdb.log')\n",
    "\n",
    "# Sample1DF = pd.read_csv('filepath/sample1.pdb.log')\n",
    "# Sample2DF = pd.read_csv('filepath/sample2.pdb.log')\n",
    "# Sample3DF = pd.read_csv('filepath/sample3.pdb.log')\n",
    "\n",
    "# SampleDFS = [Sample1DF, Sample2DF, Sample3DF]"
   ]
  },
  {
   "cell_type": "code",
   "execution_count": null,
   "id": "af5f00d6",
   "metadata": {},
   "outputs": [],
   "source": []
  }
 ],
 "metadata": {
  "kernelspec": {
   "display_name": "Python 3",
   "language": "python",
   "name": "python3"
  },
  "language_info": {
   "codemirror_mode": {
    "name": "ipython",
    "version": 3
   },
   "file_extension": ".py",
   "mimetype": "text/x-python",
   "name": "python",
   "nbconvert_exporter": "python",
   "pygments_lexer": "ipython3",
   "version": "3.7.10"
  }
 },
 "nbformat": 4,
 "nbformat_minor": 5
}
